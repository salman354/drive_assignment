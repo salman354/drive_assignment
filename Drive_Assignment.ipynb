{
 "cells": [
  {
   "cell_type": "code",
   "execution_count": 3,
   "id": "b755650c",
   "metadata": {},
   "outputs": [],
   "source": [
    "import logging\n",
    "logging.basicConfig(filename=\"events.log\",level=logging.DEBUG,format=\"%(asctime)s%(levelname)s%(message)s\",filemode='w')"
   ]
  },
  {
   "cell_type": "markdown",
   "id": "0aabd19c",
   "metadata": {},
   "source": [
    "### 1. Create a function in python to read the text file and replace specific content of the file.\n",
    "\n",
    "File name example.txt\n",
    "Origin file content:- **This is a placement assignment**  \n",
    "Replace string Placement should be replaced by **screening.**  \n",
    "Replaced file content:- **This is a screening assignment**  "
   ]
  },
  {
   "cell_type": "code",
   "execution_count": null,
   "id": "f270fbfe",
   "metadata": {},
   "outputs": [],
   "source": [
    "import logging\n",
    "logging.basicConfig(filename=\"events.log\",level=logging.DEBUG,format=\"%(asctime)s%(levelname)s%(message)s\",filemode='w')"
   ]
  },
  {
   "cell_type": "code",
   "execution_count": 7,
   "id": "6741aff5",
   "metadata": {},
   "outputs": [],
   "source": [
    "file=open(\"example.txt\",\"w\")\n",
    "logging.info(\" File Created Successfully\")\n",
    "file.write(\"this is placement assignment\")\n",
    "file.close()"
   ]
  },
  {
   "cell_type": "code",
   "execution_count": 8,
   "id": "ef9d3353",
   "metadata": {},
   "outputs": [],
   "source": [
    "find_text = 'placement'\n",
    "replace_text ='screening'    \n",
    "    \n",
    "try:\n",
    "    with open(r'example.txt', 'r') as file:\n",
    "        data = file.read()\n",
    "        data = data.replace(find_text,replace_text)\n",
    "    with open(r'example.txt', 'w') as file:\n",
    "        file.write(data)\n",
    "        logging.info(\" Executed Successfully\")\n",
    "\n",
    "except Exception as e:\n",
    "    print(e)\n",
    "    logging.error(\"Error occured while opening the file\")\n",
    "    logging.exception(\"Error as {e}\")\n",
    "    \n",
    "file.close()"
   ]
  },
  {
   "cell_type": "markdown",
   "id": "d64528f4",
   "metadata": {},
   "source": [
    "### 2. Demonstrate use of abstract class, multiple inheritance and decorator in python using examples.\n",
    "**Abstract Class:-** An abstract class can be considered as a blueprint for other classes. It allows you to create a set of methods that must be created within any child classes built from the abstract class.  \n",
    "**Multiple Inheritance:-** When a class is derived from more than one base class it is called multiple Inheritance. The derived class inherits all the features of the base case.  \n",
    "**Decorators:-** Decorator in Python adds additional responsibilities/functionalities to a function dynamically without modifying a function and it is use DRY programming."
   ]
  },
  {
   "cell_type": "code",
   "execution_count": null,
   "id": "60113e2c",
   "metadata": {},
   "outputs": [],
   "source": [
    "# asbtract class example\n",
    "\n",
    "from abc import abstractmethod\n",
    "\n",
    "class  cricket:\n",
    "    \n",
    "    @abstractmethod\n",
    "    def country_name(self):\n",
    "        pass\n",
    "    def (self):\n",
    "        pass\n",
    "    def score(self):\n",
    "        pass\n",
    "    def over_left(self):\n",
    "        pass\n",
    "    def batsman_name(self):\n",
    "        pass\n",
    "    def bowler(self):\n",
    "        pass\n",
    "    def result(self):\n",
    "        pass\n",
    "    "
   ]
  },
  {
   "cell_type": "code",
   "execution_count": null,
   "id": "62c256fa",
   "metadata": {},
   "outputs": [],
   "source": [
    "# multiple inheritence example\n",
    "\n",
    "class test1:\n",
    "    def a(self):\n",
    "        print(\"This is first test\")\n",
    "\n",
    "class test2:\n",
    "    def b(self):\n",
    "        print(\"This is second test\")\n",
    "\n",
    "class Child(test1,test2):\n",
    "    pass\n",
    "\n",
    "obj = Child()\n",
    "obj.a()\n",
    "obj.b()"
   ]
  },
  {
   "cell_type": "code",
   "execution_count": null,
   "id": "2984c10c",
   "metadata": {},
   "outputs": [],
   "source": [
    "# decorator example\n",
    "\n",
    "def dec1(func1):\n",
    "    def funcexec():\n",
    "        print(\"executing\")\n",
    "        func1()\n",
    "        print(\"executed\")\n",
    "    return funcexec\n",
    "\n",
    "\n",
    "@dec1   # here decorator is use\n",
    "def test():\n",
    "    print(\"Hi,How are you?\")\n",
    "test()"
   ]
  }
 ],
 "metadata": {
  "kernelspec": {
   "display_name": "Python 3 (ipykernel)",
   "language": "python",
   "name": "python3"
  },
  "language_info": {
   "codemirror_mode": {
    "name": "ipython",
    "version": 3
   },
   "file_extension": ".py",
   "mimetype": "text/x-python",
   "name": "python",
   "nbconvert_exporter": "python",
   "pygments_lexer": "ipython3",
   "version": "3.9.7"
  }
 },
 "nbformat": 4,
 "nbformat_minor": 5
}
